{
 "cells": [
  {
   "cell_type": "code",
   "execution_count": 187,
   "metadata": {},
   "outputs": [],
   "source": [
    "#packages\n",
    "import yfinance as yf\n",
    "import pandas as pd"
   ]
  },
  {
   "cell_type": "code",
   "execution_count": 196,
   "metadata": {},
   "outputs": [],
   "source": [
    "'''\n",
    "start and end date format'%Y-%m-%d'\n",
    "valid periods ['1d', '5d', '1mo', '3mo', '6mo', '1y', '2y', '5y', '10y', 'ytd', 'max']\n",
    "Valid intervals: [1m, 2m, 5m, 15m, 30m, 60m, 90m, 1h, 1d, 5d, 1wk, 1mo, 3mo]\n",
    "'''\n",
    "class Yahoo_scraper:\n",
    "    def __init__(self, ticker_name: str = 'EURINR=X', start_date: str = None, end_date: str = None, interval: str ='1d'):\n",
    "        self.ticker_name = ticker_name\n",
    "        self.start_date =start_date\n",
    "        self.end_date = end_date\n",
    "        self.interval = interval\n",
    "    def historical_data(self)->pd.DataFrame:\n",
    "        stock = yf.Ticker(self.ticker_name)\n",
    "        data = stock.history(start = self.start_date,end = self.end_date,interval = self.interval)\n",
    "        required_data = data.loc[:,['Open','High','Low','Close']]\n",
    "        return required_data\n",
    "        "
   ]
  },
  {
   "cell_type": "code",
   "execution_count": 195,
   "metadata": {},
   "outputs": [],
   "source": [
    "# test_object = Yahoo_scraper(start_date = '2024-10-20',end_date = None,interval = '1d')\n",
    "# test_object.historical_data()"
   ]
  }
 ],
 "metadata": {
  "kernelspec": {
   "display_name": "Python 3",
   "language": "python",
   "name": "python3"
  },
  "language_info": {
   "codemirror_mode": {
    "name": "ipython",
    "version": 3
   },
   "file_extension": ".py",
   "mimetype": "text/x-python",
   "name": "python",
   "nbconvert_exporter": "python",
   "pygments_lexer": "ipython3",
   "version": "3.10.11"
  }
 },
 "nbformat": 4,
 "nbformat_minor": 2
}
